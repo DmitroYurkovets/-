{
 "cells": [
  {
   "cell_type": "code",
   "execution_count": 22,
   "metadata": {},
   "outputs": [
    {
     "name": "stdout",
     "output_type": "stream",
     "text": [
      "[[ 4 -8]\n",
      " [12 -4]]\n"
     ]
    }
   ],
   "source": [
    "#1\n",
    "import numpy as np\n",
    "a = np.matrix('1 2; 4 -1')\n",
    "b = np.matrix('2 -3; -4 1')\n",
    "\n",
    "c = a.dot(b)\n",
    "d = b.dot(a)\n",
    "e = c - d\n",
    "print(e)\n"
   ]
  },
  {
   "cell_type": "code",
   "execution_count": 4,
   "metadata": {},
   "outputs": [
    {
     "name": "stdout",
     "output_type": "stream",
     "text": [
      "[[1 0]\n",
      " [0 1]]\n"
     ]
    }
   ],
   "source": [
    "#2\n",
    "import numpy as np\n",
    "a = np.matrix('-1 2; 0 1')\n",
    "b = np.matrix('-1 2; 0 1')\n",
    "\n",
    "c = a.dot(b)\n",
    "print(c)"
   ]
  },
  {
   "cell_type": "code",
   "execution_count": 5,
   "metadata": {},
   "outputs": [
    {
     "name": "stdout",
     "output_type": "stream",
     "text": [
      "[[-9 13]\n",
      " [15  4]]\n"
     ]
    }
   ],
   "source": [
    "#3\n",
    "import numpy as np\n",
    "a = np.matrix('3 5; 6 -1')\n",
    "b = np.matrix('2 1; -3 2')\n",
    "\n",
    "c = a.dot(b)\n",
    "print(c)"
   ]
  },
  {
   "cell_type": "code",
   "execution_count": 6,
   "metadata": {},
   "outputs": [
    {
     "name": "stdout",
     "output_type": "stream",
     "text": [
      "35\n"
     ]
    }
   ],
   "source": [
    "#4\n",
    "import numpy as np\n",
    "a = np.matrix('2 3 4; 1 0 6; 7 8 9')\n",
    "a_det = np.linalg.det(a)\n",
    "\n",
    "print(format(a_det, '.9g'))"
   ]
  },
  {
   "cell_type": "code",
   "execution_count": 7,
   "metadata": {},
   "outputs": [
    {
     "name": "stdout",
     "output_type": "stream",
     "text": [
      "900\n"
     ]
    }
   ],
   "source": [
    "#5\n",
    "import numpy as np\n",
    "a = np.matrix('1 2 3 4; -2 1 -4 3; 3 -4 -1 2; 4 3 -2 -1')\n",
    "a_det = np.linalg.det(a)\n",
    "\n",
    "print(format(a_det, '.9g'))"
   ]
  },
  {
   "cell_type": "code",
   "execution_count": 11,
   "metadata": {},
   "outputs": [
    {
     "name": "stdout",
     "output_type": "stream",
     "text": [
      "[[ 1. -2.  7.]\n",
      " [ 0.  1. -2.]\n",
      " [ 0.  0.  1.]]\n"
     ]
    }
   ],
   "source": [
    "#6\n",
    "import numpy as np\n",
    "a = np.matrix('1 2 -3; 0 1 2; 0 0 1')\n",
    "a_inv = np.linalg.inv(a)\n",
    "\n",
    "print(a_inv)"
   ]
  },
  {
   "cell_type": "code",
   "execution_count": 12,
   "metadata": {},
   "outputs": [
    {
     "name": "stdout",
     "output_type": "stream",
     "text": [
      "2\n"
     ]
    }
   ],
   "source": [
    "#7\n",
    "import numpy as np\n",
    "a = np.matrix('1 2 3 4; 3 -1 2 5; 1 2 3 4; 1 3 4 5')\n",
    "rank = np.linalg.matrix_rank(a)\n",
    "\n",
    "print(rank)"
   ]
  },
  {
   "cell_type": "code",
   "execution_count": 21,
   "metadata": {},
   "outputs": [
    {
     "name": "stdout",
     "output_type": "stream",
     "text": [
      "A= [[ 3  2  1]\n",
      " [ 2 -1  1]\n",
      " [ 1  5  1]]\n",
      "B= [[ 5]\n",
      " [ 6]\n",
      " [-3]]\n",
      "Детермінант матриці =  -8.999999999999998\n",
      "Розв*язуємо систему\n",
      "x_m= [[ 5  2  1]\n",
      " [ 6 -1  1]\n",
      " [-3  5  1]]\n",
      "y_m= [[ 3  5  1]\n",
      " [ 2  6  1]\n",
      " [ 1 -3  1]]\n",
      "z_m= [[ 3  2  5]\n",
      " [ 2 -1  6]\n",
      " [ 1  5 -3]]\n",
      "X =  2.33333\n",
      "Y= -1.11111\n",
      "Z= 0.22222\n",
      "Перевірка X= [[ 2.33333333]\n",
      " [-1.11111111]\n",
      " [ 0.22222222]]\n"
     ]
    }
   ],
   "source": [
    "#Завдання 8 метод крамера\n",
    "a = np.matrix('3 2 1; 2 -1 1; 1 5 1') \n",
    "print('A=',a) \n",
    "b = np.matrix('5; 6; -3') \n",
    "print('B=',b) \n",
    "\n",
    "def kramer (a, b): \n",
    "    a_det = np.linalg.det(A) \n",
    "    print('Детермінант матриці = ', a_det) \n",
    "\n",
    "#Зробити перевірку,що детермінант не дорівнює нулю \n",
    "    if (a_det != 0): \n",
    "        print ('Розв*язуємо систему')   \n",
    "        x_m = np.matrix(a) \n",
    "        x_m[:, 0] = b # формування допоміжної матриці (1 ст. замінюємо на ст. b) \n",
    "        print('x_m=', x_m) \n",
    "        y_m = np.matrix(a)  #2 ст. замінюємо на ст. b \n",
    "        y_m[:, 1] = b #2 c \n",
    "        print('y_m=',y_m) \n",
    "        z_m = np.matrix(a) #3 ст. замінюємо на ст. b \n",
    "        z_m[:, 2] = b \n",
    "        print('z_m=',z_m) \n",
    "        x = np.linalg.det(x_m) / a_det \n",
    "        y = np.linalg.det(y_m) / a_det \n",
    "        z = np.linalg.det(z_m) / a_det \n",
    "        print('X = ', round(x,5)) \n",
    "        print('Y=', round(y,5)) \n",
    "        print('Z=', round(z,5)) \n",
    "    else: \n",
    "        print('Розв*язків немає') \n",
    "kramer(a,b) \n",
    "#Перевірка за допомогою методом solve() пакету linalg: \n",
    "X = np.linalg.solve(a, b) \n",
    "print('Перевірка X=',X) "
   ]
  },
  {
   "cell_type": "code",
   "execution_count": 20,
   "metadata": {},
   "outputs": [
    {
     "name": "stdout",
     "output_type": "stream",
     "text": [
      "A= [[ 3  2  1]\n",
      " [ 2 -1  1]\n",
      " [ 1  5  1]]\n",
      "B= [[ 5]\n",
      " [ 6]\n",
      " [-3]]\n",
      "[[ 0.66666667 -0.33333333 -0.33333333]\n",
      " [ 0.11111111 -0.22222222  0.11111111]\n",
      " [-1.22222222  1.44444444  0.77777778]]\n",
      "X= [[ 2.33333333]\n",
      " [-1.11111111]\n",
      " [ 0.22222222]]\n",
      "Перевірка X= [[ 2.33333333]\n",
      " [-1.11111111]\n",
      " [ 0.22222222]]\n"
     ]
    }
   ],
   "source": [
    "#Завдання 8 метод матриць\n",
    "A = np.matrix('3 2 1; 2 -1 1; 1 5 1') \n",
    "B = np.matrix('5; 6; -3') \n",
    "print('A=', A) \n",
    "print('B=',B) \n",
    "A_inv = np.linalg.inv(A) \n",
    "print(A_inv) \n",
    "X = A_inv.dot(B) \n",
    "print('X=',X) \n",
    "#Перевірка за допомогою методом solve() пакету linalg: \n",
    "X = np.linalg.solve(a, b) \n",
    "print('Перевірка X=',X) "
   ]
  }
 ],
 "metadata": {
  "kernelspec": {
   "display_name": "Python 3.9.7 64-bit",
   "language": "python",
   "name": "python3"
  },
  "language_info": {
   "codemirror_mode": {
    "name": "ipython",
    "version": 3
   },
   "file_extension": ".py",
   "mimetype": "text/x-python",
   "name": "python",
   "nbconvert_exporter": "python",
   "pygments_lexer": "ipython3",
   "version": "3.9.7"
  },
  "orig_nbformat": 4,
  "vscode": {
   "interpreter": {
    "hash": "11938c6bc6919ae2720b4d5011047913343b08a43b18698fd82dedb0d4417594"
   }
  }
 },
 "nbformat": 4,
 "nbformat_minor": 2
}
